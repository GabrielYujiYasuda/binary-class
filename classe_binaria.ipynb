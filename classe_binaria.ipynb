{
  "nbformat": 4,
  "nbformat_minor": 0,
  "metadata": {
    "colab": {
      "provenance": []
    },
    "kernelspec": {
      "name": "python3",
      "display_name": "Python 3"
    },
    "language_info": {
      "name": "python"
    }
  },
  "cells": [
    {
      "cell_type": "code",
      "execution_count": 294,
      "metadata": {
        "id": "oxhIV1q2bHfK"
      },
      "outputs": [],
      "source": [
        "import pandas as pd \n",
        "import numpy as np\n",
        "\n",
        "from sklearn.metrics import confusion_matrix\n",
        "from sklearn.metrics import accuracy_score\n",
        "from sklearn.metrics import precision_score\n",
        "from sklearn.metrics import recall_score\n",
        "from sklearn.metrics import f1_score\n",
        "from sklearn.metrics import cohen_kappa_score\n",
        "from sklearn.metrics import roc_auc_score\n",
        "\n",
        "from tensorflow.keras import Sequential\n",
        "from tensorflow.keras.layers import Dense"
      ]
    },
    {
      "cell_type": "markdown",
      "source": [
        "# Carregando o arquivo"
      ],
      "metadata": {
        "id": "K8fSFzAL96at"
      }
    },
    {
      "cell_type": "code",
      "source": [
        "\n",
        "df = np.loadtxt('winequality.csv', delimiter=',', skiprows = 1)\n",
        "display(df)"
      ],
      "metadata": {
        "colab": {
          "base_uri": "https://localhost:8080/",
          "height": 138
        },
        "id": "5yG7VQyzbRLl",
        "outputId": "5630eddb-c2ea-4e51-d57c-d2cf5e3850af"
      },
      "execution_count": 295,
      "outputs": [
        {
          "output_type": "display_data",
          "data": {
            "text/plain": [
              "array([[7.40, 0.70, 0.00, ..., 0.56, 9.40, 5.00],\n",
              "       [7.80, 0.88, 0.00, ..., 0.68, 9.80, 5.00],\n",
              "       [7.80, 0.76, 0.04, ..., 0.65, 9.80, 5.00],\n",
              "       ...,\n",
              "       [6.30, 0.51, 0.13, ..., 0.75, 11.00, 6.00],\n",
              "       [5.90, 0.65, 0.12, ..., 0.71, 10.20, 5.00],\n",
              "       [6.00, 0.31, 0.47, ..., 0.66, 11.00, 6.00]])"
            ]
          },
          "metadata": {}
        }
      ]
    },
    {
      "cell_type": "markdown",
      "source": [
        "#Mostrando as linhas e colunas do df\n"
      ],
      "metadata": {
        "id": "XFClsB0C-IO6"
      }
    },
    {
      "cell_type": "code",
      "source": [
        "df.shape"
      ],
      "metadata": {
        "colab": {
          "base_uri": "https://localhost:8080/"
        },
        "id": "t49brIVajNte",
        "outputId": "bb96ca9a-b9ac-469f-b4ef-9efbe878fff2"
      },
      "execution_count": 296,
      "outputs": [
        {
          "output_type": "execute_result",
          "data": {
            "text/plain": [
              "(1599, 12)"
            ]
          },
          "metadata": {},
          "execution_count": 296
        }
      ]
    },
    {
      "cell_type": "markdown",
      "source": [
        "#Transformado em um problema de classificação binária\n"
      ],
      "metadata": {
        "id": "89VYc6n2-ZyI"
      }
    },
    {
      "cell_type": "code",
      "source": [
        "df[df[:, -1] < 5.5, -1] = 0\n",
        "df[df[:, -1] >= 5.5, -1] = 1"
      ],
      "metadata": {
        "id": "UFsvyc6HzsLl"
      },
      "execution_count": 297,
      "outputs": []
    },
    {
      "cell_type": "markdown",
      "source": [
        "#Primeiras 10 linhas\n"
      ],
      "metadata": {
        "id": "p9yngGIO-dnR"
      }
    },
    {
      "cell_type": "code",
      "source": [
        "np.set_printoptions(formatter={'float': '{:0.2f}'.format})\n",
        "df[:10]"
      ],
      "metadata": {
        "colab": {
          "base_uri": "https://localhost:8080/"
        },
        "id": "rPiCnmoi0bQm",
        "outputId": "07418acc-1b94-4655-b0a2-45dc39867374"
      },
      "execution_count": 298,
      "outputs": [
        {
          "output_type": "execute_result",
          "data": {
            "text/plain": [
              "array([[7.40, 0.70, 0.00, 1.90, 0.08, 11.00, 34.00, 1.00, 3.51, 0.56,\n",
              "        9.40, 0.00],\n",
              "       [7.80, 0.88, 0.00, 2.60, 0.10, 25.00, 67.00, 1.00, 3.20, 0.68,\n",
              "        9.80, 0.00],\n",
              "       [7.80, 0.76, 0.04, 2.30, 0.09, 15.00, 54.00, 1.00, 3.26, 0.65,\n",
              "        9.80, 0.00],\n",
              "       [11.20, 0.28, 0.56, 1.90, 0.07, 17.00, 60.00, 1.00, 3.16, 0.58,\n",
              "        9.80, 1.00],\n",
              "       [7.40, 0.70, 0.00, 1.90, 0.08, 11.00, 34.00, 1.00, 3.51, 0.56,\n",
              "        9.40, 0.00],\n",
              "       [7.40, 0.66, 0.00, 1.80, 0.07, 13.00, 40.00, 1.00, 3.51, 0.56,\n",
              "        9.40, 0.00],\n",
              "       [7.90, 0.60, 0.06, 1.60, 0.07, 15.00, 59.00, 1.00, 3.30, 0.46,\n",
              "        9.40, 0.00],\n",
              "       [7.30, 0.65, 0.00, 1.20, 0.07, 15.00, 21.00, 0.99, 3.39, 0.47,\n",
              "        10.00, 1.00],\n",
              "       [7.80, 0.58, 0.02, 2.00, 0.07, 9.00, 18.00, 1.00, 3.36, 0.57,\n",
              "        9.50, 1.00],\n",
              "       [7.50, 0.50, 0.36, 6.10, 0.07, 17.00, 102.00, 1.00, 3.35, 0.80,\n",
              "        10.50, 0.00]])"
            ]
          },
          "metadata": {},
          "execution_count": 298
        }
      ]
    },
    {
      "cell_type": "markdown",
      "source": [
        "#Transformandos os parâmetros(X) e a classe(Y) do df em arrays"
      ],
      "metadata": {
        "id": "ZI39HbOg-jhF"
      }
    },
    {
      "cell_type": "code",
      "source": [
        "X = df[:, :-1]\n",
        "\n",
        "Y = df[:, -1]"
      ],
      "metadata": {
        "id": "sCHAuDKA0dvn"
      },
      "execution_count": 299,
      "outputs": []
    },
    {
      "cell_type": "markdown",
      "source": [
        "#Normalizando os dados\n"
      ],
      "metadata": {
        "id": "xBkXHHPy-vFN"
      }
    },
    {
      "cell_type": "code",
      "source": [
        "mean = X.mean(axis = 0)"
      ],
      "metadata": {
        "id": "1sg_9Jkp1Es5"
      },
      "execution_count": 300,
      "outputs": []
    },
    {
      "cell_type": "code",
      "source": [
        "#\n",
        "X -= mean"
      ],
      "metadata": {
        "id": "ZMarN43f1SLV"
      },
      "execution_count": 301,
      "outputs": []
    },
    {
      "cell_type": "code",
      "source": [
        "std = X.std(axis = 0)"
      ],
      "metadata": {
        "id": "5dj0ugMD1W_y"
      },
      "execution_count": 302,
      "outputs": []
    },
    {
      "cell_type": "code",
      "source": [
        "X /= std"
      ],
      "metadata": {
        "id": "jiXCqHrH1ZLN"
      },
      "execution_count": 303,
      "outputs": []
    },
    {
      "cell_type": "markdown",
      "source": [
        "#Construindo o modelo\n",
        "- Criando os layers\n",
        "- Oito neurons\n",
        "- Dim dinâmico\n",
        "- Relu, ativação não linear"
      ],
      "metadata": {
        "id": "RMRAZJ6E-ydg"
      }
    },
    {
      "cell_type": "code",
      "source": [
        "model = Sequential()\n",
        "\n",
        "model.add(Dense(8, input_dim = len(X[0, :]), activation = 'relu'))\n",
        "model.add(Dense(4, activation = 'relu'))\n",
        "model.add(Dense(1, activation = 'sigmoid'))"
      ],
      "metadata": {
        "id": "lDHRqqS82qQv"
      },
      "execution_count": 304,
      "outputs": []
    },
    {
      "cell_type": "markdown",
      "source": [
        "#Vizualização do modelo\n"
      ],
      "metadata": {
        "id": "r7f-FgRK_Drm"
      }
    },
    {
      "cell_type": "code",
      "source": [
        "model.summary()"
      ],
      "metadata": {
        "colab": {
          "base_uri": "https://localhost:8080/"
        },
        "id": "smtOOyej3s6X",
        "outputId": "db18dfaf-ab33-4ec8-db39-e17e90b1a349"
      },
      "execution_count": 305,
      "outputs": [
        {
          "output_type": "stream",
          "name": "stdout",
          "text": [
            "Model: \"sequential_24\"\n",
            "_________________________________________________________________\n",
            " Layer (type)                Output Shape              Param #   \n",
            "=================================================================\n",
            " dense_67 (Dense)            (None, 8)                 96        \n",
            "                                                                 \n",
            " dense_68 (Dense)            (None, 4)                 36        \n",
            "                                                                 \n",
            " dense_69 (Dense)            (None, 1)                 5         \n",
            "                                                                 \n",
            "=================================================================\n",
            "Total params: 137\n",
            "Trainable params: 137\n",
            "Non-trainable params: 0\n",
            "_________________________________________________________________\n"
          ]
        }
      ]
    },
    {
      "cell_type": "markdown",
      "source": [
        "#Compilando o modelo\n",
        "Loss para a binary cross entropy"
      ],
      "metadata": {
        "id": "YgeluRg7_G7J"
      }
    },
    {
      "cell_type": "code",
      "source": [
        "model.compile(loss = 'binary_crossentropy', optimizer = 'rmsprop', metrics=['accuracy'])"
      ],
      "metadata": {
        "id": "A7iOvFrE3wyY"
      },
      "execution_count": 306,
      "outputs": []
    },
    {
      "cell_type": "markdown",
      "source": [
        "#Realizando o treinamento\n"
      ],
      "metadata": {
        "id": "fzNobfHY_MBY"
      }
    },
    {
      "cell_type": "code",
      "source": [
        "model.fit(x  = X, y = Y, epochs = 256, verbose = 1)"
      ],
      "metadata": {
        "colab": {
          "base_uri": "https://localhost:8080/"
        },
        "id": "SDSabR2Z4MF_",
        "outputId": "e4878937-477f-41a1-aea4-d10c96caed2b"
      },
      "execution_count": 307,
      "outputs": [
        {
          "output_type": "stream",
          "name": "stdout",
          "text": [
            "Epoch 1/256\n",
            "50/50 [==============================] - 1s 3ms/step - loss: 0.7089 - accuracy: 0.4853\n",
            "Epoch 2/256\n",
            "50/50 [==============================] - 0s 2ms/step - loss: 0.6818 - accuracy: 0.5403\n",
            "Epoch 3/256\n",
            "50/50 [==============================] - 0s 2ms/step - loss: 0.6563 - accuracy: 0.6091\n",
            "Epoch 4/256\n",
            "50/50 [==============================] - 0s 2ms/step - loss: 0.6311 - accuracy: 0.6529\n",
            "Epoch 5/256\n",
            "50/50 [==============================] - 0s 2ms/step - loss: 0.6087 - accuracy: 0.6848\n",
            "Epoch 6/256\n",
            "50/50 [==============================] - 0s 2ms/step - loss: 0.5888 - accuracy: 0.7017\n",
            "Epoch 7/256\n",
            "50/50 [==============================] - 0s 2ms/step - loss: 0.5722 - accuracy: 0.7161\n",
            "Epoch 8/256\n",
            "50/50 [==============================] - 0s 2ms/step - loss: 0.5574 - accuracy: 0.7205\n",
            "Epoch 9/256\n",
            "50/50 [==============================] - 0s 2ms/step - loss: 0.5462 - accuracy: 0.7161\n",
            "Epoch 10/256\n",
            "50/50 [==============================] - 0s 2ms/step - loss: 0.5382 - accuracy: 0.7192\n",
            "Epoch 11/256\n",
            "50/50 [==============================] - 0s 2ms/step - loss: 0.5319 - accuracy: 0.7192\n",
            "Epoch 12/256\n",
            "50/50 [==============================] - 0s 3ms/step - loss: 0.5274 - accuracy: 0.7273\n",
            "Epoch 13/256\n",
            "50/50 [==============================] - 0s 2ms/step - loss: 0.5243 - accuracy: 0.7261\n",
            "Epoch 14/256\n",
            "50/50 [==============================] - 0s 2ms/step - loss: 0.5215 - accuracy: 0.7317\n",
            "Epoch 15/256\n",
            "50/50 [==============================] - 0s 2ms/step - loss: 0.5192 - accuracy: 0.7342\n",
            "Epoch 16/256\n",
            "50/50 [==============================] - 0s 3ms/step - loss: 0.5175 - accuracy: 0.7336\n",
            "Epoch 17/256\n",
            "50/50 [==============================] - 0s 3ms/step - loss: 0.5156 - accuracy: 0.7373\n",
            "Epoch 18/256\n",
            "50/50 [==============================] - 0s 2ms/step - loss: 0.5143 - accuracy: 0.7411\n",
            "Epoch 19/256\n",
            "50/50 [==============================] - 0s 3ms/step - loss: 0.5130 - accuracy: 0.7405\n",
            "Epoch 20/256\n",
            "50/50 [==============================] - 0s 2ms/step - loss: 0.5120 - accuracy: 0.7405\n",
            "Epoch 21/256\n",
            "50/50 [==============================] - 0s 3ms/step - loss: 0.5107 - accuracy: 0.7380\n",
            "Epoch 22/256\n",
            "50/50 [==============================] - 0s 2ms/step - loss: 0.5097 - accuracy: 0.7380\n",
            "Epoch 23/256\n",
            "50/50 [==============================] - 0s 3ms/step - loss: 0.5085 - accuracy: 0.7398\n",
            "Epoch 24/256\n",
            "50/50 [==============================] - 0s 2ms/step - loss: 0.5075 - accuracy: 0.7386\n",
            "Epoch 25/256\n",
            "50/50 [==============================] - 0s 3ms/step - loss: 0.5066 - accuracy: 0.7436\n",
            "Epoch 26/256\n",
            "50/50 [==============================] - 0s 4ms/step - loss: 0.5056 - accuracy: 0.7405\n",
            "Epoch 27/256\n",
            "50/50 [==============================] - 0s 4ms/step - loss: 0.5047 - accuracy: 0.7398\n",
            "Epoch 28/256\n",
            "50/50 [==============================] - 0s 4ms/step - loss: 0.5040 - accuracy: 0.7411\n",
            "Epoch 29/256\n",
            "50/50 [==============================] - 0s 4ms/step - loss: 0.5032 - accuracy: 0.7461\n",
            "Epoch 30/256\n",
            "50/50 [==============================] - 0s 4ms/step - loss: 0.5025 - accuracy: 0.7448\n",
            "Epoch 31/256\n",
            "50/50 [==============================] - 0s 4ms/step - loss: 0.5017 - accuracy: 0.7461\n",
            "Epoch 32/256\n",
            "50/50 [==============================] - 0s 4ms/step - loss: 0.5009 - accuracy: 0.7505\n",
            "Epoch 33/256\n",
            "50/50 [==============================] - 0s 2ms/step - loss: 0.5004 - accuracy: 0.7511\n",
            "Epoch 34/256\n",
            "50/50 [==============================] - 0s 2ms/step - loss: 0.4995 - accuracy: 0.7517\n",
            "Epoch 35/256\n",
            "50/50 [==============================] - 0s 2ms/step - loss: 0.4988 - accuracy: 0.7505\n",
            "Epoch 36/256\n",
            "50/50 [==============================] - 0s 3ms/step - loss: 0.4980 - accuracy: 0.7517\n",
            "Epoch 37/256\n",
            "50/50 [==============================] - 0s 4ms/step - loss: 0.4969 - accuracy: 0.7523\n",
            "Epoch 38/256\n",
            "50/50 [==============================] - 0s 4ms/step - loss: 0.4964 - accuracy: 0.7548\n",
            "Epoch 39/256\n",
            "50/50 [==============================] - 0s 4ms/step - loss: 0.4954 - accuracy: 0.7542\n",
            "Epoch 40/256\n",
            "50/50 [==============================] - 0s 4ms/step - loss: 0.4947 - accuracy: 0.7548\n",
            "Epoch 41/256\n",
            "50/50 [==============================] - 0s 4ms/step - loss: 0.4942 - accuracy: 0.7567\n",
            "Epoch 42/256\n",
            "50/50 [==============================] - 0s 4ms/step - loss: 0.4934 - accuracy: 0.7561\n",
            "Epoch 43/256\n",
            "50/50 [==============================] - 0s 4ms/step - loss: 0.4927 - accuracy: 0.7536\n",
            "Epoch 44/256\n",
            "50/50 [==============================] - 0s 3ms/step - loss: 0.4923 - accuracy: 0.7586\n",
            "Epoch 45/256\n",
            "50/50 [==============================] - 0s 4ms/step - loss: 0.4914 - accuracy: 0.7592\n",
            "Epoch 46/256\n",
            "50/50 [==============================] - 0s 3ms/step - loss: 0.4908 - accuracy: 0.7605\n",
            "Epoch 47/256\n",
            "50/50 [==============================] - 0s 3ms/step - loss: 0.4903 - accuracy: 0.7605\n",
            "Epoch 48/256\n",
            "50/50 [==============================] - 0s 4ms/step - loss: 0.4896 - accuracy: 0.7592\n",
            "Epoch 49/256\n",
            "50/50 [==============================] - 0s 4ms/step - loss: 0.4892 - accuracy: 0.7592\n",
            "Epoch 50/256\n",
            "50/50 [==============================] - 0s 4ms/step - loss: 0.4885 - accuracy: 0.7617\n",
            "Epoch 51/256\n",
            "50/50 [==============================] - 0s 4ms/step - loss: 0.4880 - accuracy: 0.7605\n",
            "Epoch 52/256\n",
            "50/50 [==============================] - 0s 4ms/step - loss: 0.4876 - accuracy: 0.7605\n",
            "Epoch 53/256\n",
            "50/50 [==============================] - 0s 3ms/step - loss: 0.4871 - accuracy: 0.7630\n",
            "Epoch 54/256\n",
            "50/50 [==============================] - 0s 3ms/step - loss: 0.4866 - accuracy: 0.7624\n",
            "Epoch 55/256\n",
            "50/50 [==============================] - 0s 3ms/step - loss: 0.4864 - accuracy: 0.7624\n",
            "Epoch 56/256\n",
            "50/50 [==============================] - 0s 2ms/step - loss: 0.4857 - accuracy: 0.7611\n",
            "Epoch 57/256\n",
            "50/50 [==============================] - 0s 2ms/step - loss: 0.4850 - accuracy: 0.7642\n",
            "Epoch 58/256\n",
            "50/50 [==============================] - 0s 3ms/step - loss: 0.4846 - accuracy: 0.7642\n",
            "Epoch 59/256\n",
            "50/50 [==============================] - 0s 3ms/step - loss: 0.4841 - accuracy: 0.7642\n",
            "Epoch 60/256\n",
            "50/50 [==============================] - 0s 3ms/step - loss: 0.4833 - accuracy: 0.7667\n",
            "Epoch 61/256\n",
            "50/50 [==============================] - 0s 2ms/step - loss: 0.4828 - accuracy: 0.7667\n",
            "Epoch 62/256\n",
            "50/50 [==============================] - 0s 3ms/step - loss: 0.4822 - accuracy: 0.7655\n",
            "Epoch 63/256\n",
            "50/50 [==============================] - 0s 3ms/step - loss: 0.4817 - accuracy: 0.7711\n",
            "Epoch 64/256\n",
            "50/50 [==============================] - 0s 3ms/step - loss: 0.4814 - accuracy: 0.7661\n",
            "Epoch 65/256\n",
            "50/50 [==============================] - 0s 2ms/step - loss: 0.4807 - accuracy: 0.7705\n",
            "Epoch 66/256\n",
            "50/50 [==============================] - 0s 2ms/step - loss: 0.4802 - accuracy: 0.7692\n",
            "Epoch 67/256\n",
            "50/50 [==============================] - 0s 3ms/step - loss: 0.4799 - accuracy: 0.7705\n",
            "Epoch 68/256\n",
            "50/50 [==============================] - 0s 3ms/step - loss: 0.4794 - accuracy: 0.7705\n",
            "Epoch 69/256\n",
            "50/50 [==============================] - 0s 2ms/step - loss: 0.4791 - accuracy: 0.7699\n",
            "Epoch 70/256\n",
            "50/50 [==============================] - 0s 2ms/step - loss: 0.4789 - accuracy: 0.7692\n",
            "Epoch 71/256\n",
            "50/50 [==============================] - 0s 2ms/step - loss: 0.4785 - accuracy: 0.7699\n",
            "Epoch 72/256\n",
            "50/50 [==============================] - 0s 2ms/step - loss: 0.4781 - accuracy: 0.7724\n",
            "Epoch 73/256\n",
            "50/50 [==============================] - 0s 2ms/step - loss: 0.4777 - accuracy: 0.7705\n",
            "Epoch 74/256\n",
            "50/50 [==============================] - 0s 2ms/step - loss: 0.4774 - accuracy: 0.7692\n",
            "Epoch 75/256\n",
            "50/50 [==============================] - 0s 2ms/step - loss: 0.4770 - accuracy: 0.7699\n",
            "Epoch 76/256\n",
            "50/50 [==============================] - 0s 3ms/step - loss: 0.4768 - accuracy: 0.7724\n",
            "Epoch 77/256\n",
            "50/50 [==============================] - 0s 3ms/step - loss: 0.4764 - accuracy: 0.7730\n",
            "Epoch 78/256\n",
            "50/50 [==============================] - 0s 2ms/step - loss: 0.4761 - accuracy: 0.7755\n",
            "Epoch 79/256\n",
            "50/50 [==============================] - 0s 2ms/step - loss: 0.4758 - accuracy: 0.7736\n",
            "Epoch 80/256\n",
            "50/50 [==============================] - 0s 2ms/step - loss: 0.4753 - accuracy: 0.7742\n",
            "Epoch 81/256\n",
            "50/50 [==============================] - 0s 2ms/step - loss: 0.4749 - accuracy: 0.7736\n",
            "Epoch 82/256\n",
            "50/50 [==============================] - 0s 2ms/step - loss: 0.4747 - accuracy: 0.7755\n",
            "Epoch 83/256\n",
            "50/50 [==============================] - 0s 2ms/step - loss: 0.4743 - accuracy: 0.7736\n",
            "Epoch 84/256\n",
            "50/50 [==============================] - 0s 3ms/step - loss: 0.4738 - accuracy: 0.7749\n",
            "Epoch 85/256\n",
            "50/50 [==============================] - 0s 2ms/step - loss: 0.4735 - accuracy: 0.7749\n",
            "Epoch 86/256\n",
            "50/50 [==============================] - 0s 2ms/step - loss: 0.4732 - accuracy: 0.7767\n",
            "Epoch 87/256\n",
            "50/50 [==============================] - 0s 2ms/step - loss: 0.4729 - accuracy: 0.7774\n",
            "Epoch 88/256\n",
            "50/50 [==============================] - 0s 2ms/step - loss: 0.4726 - accuracy: 0.7742\n",
            "Epoch 89/256\n",
            "50/50 [==============================] - 0s 3ms/step - loss: 0.4721 - accuracy: 0.7774\n",
            "Epoch 90/256\n",
            "50/50 [==============================] - 0s 2ms/step - loss: 0.4719 - accuracy: 0.7736\n",
            "Epoch 91/256\n",
            "50/50 [==============================] - 0s 2ms/step - loss: 0.4719 - accuracy: 0.7742\n",
            "Epoch 92/256\n",
            "50/50 [==============================] - 0s 3ms/step - loss: 0.4714 - accuracy: 0.7742\n",
            "Epoch 93/256\n",
            "50/50 [==============================] - 0s 2ms/step - loss: 0.4711 - accuracy: 0.7749\n",
            "Epoch 94/256\n",
            "50/50 [==============================] - 0s 2ms/step - loss: 0.4709 - accuracy: 0.7736\n",
            "Epoch 95/256\n",
            "50/50 [==============================] - 0s 2ms/step - loss: 0.4703 - accuracy: 0.7711\n",
            "Epoch 96/256\n",
            "50/50 [==============================] - 0s 2ms/step - loss: 0.4703 - accuracy: 0.7742\n",
            "Epoch 97/256\n",
            "50/50 [==============================] - 0s 2ms/step - loss: 0.4700 - accuracy: 0.7736\n",
            "Epoch 98/256\n",
            "50/50 [==============================] - 0s 3ms/step - loss: 0.4698 - accuracy: 0.7711\n",
            "Epoch 99/256\n",
            "50/50 [==============================] - 0s 3ms/step - loss: 0.4692 - accuracy: 0.7717\n",
            "Epoch 100/256\n",
            "50/50 [==============================] - 0s 3ms/step - loss: 0.4693 - accuracy: 0.7711\n",
            "Epoch 101/256\n",
            "50/50 [==============================] - 0s 3ms/step - loss: 0.4687 - accuracy: 0.7692\n",
            "Epoch 102/256\n",
            "50/50 [==============================] - 0s 2ms/step - loss: 0.4683 - accuracy: 0.7711\n",
            "Epoch 103/256\n",
            "50/50 [==============================] - 0s 2ms/step - loss: 0.4684 - accuracy: 0.7699\n",
            "Epoch 104/256\n",
            "50/50 [==============================] - 0s 2ms/step - loss: 0.4678 - accuracy: 0.7699\n",
            "Epoch 105/256\n",
            "50/50 [==============================] - 0s 3ms/step - loss: 0.4675 - accuracy: 0.7717\n",
            "Epoch 106/256\n",
            "50/50 [==============================] - 0s 2ms/step - loss: 0.4676 - accuracy: 0.7699\n",
            "Epoch 107/256\n",
            "50/50 [==============================] - 0s 3ms/step - loss: 0.4673 - accuracy: 0.7686\n",
            "Epoch 108/256\n",
            "50/50 [==============================] - 0s 2ms/step - loss: 0.4669 - accuracy: 0.7692\n",
            "Epoch 109/256\n",
            "50/50 [==============================] - 0s 2ms/step - loss: 0.4665 - accuracy: 0.7699\n",
            "Epoch 110/256\n",
            "50/50 [==============================] - 0s 2ms/step - loss: 0.4663 - accuracy: 0.7717\n",
            "Epoch 111/256\n",
            "50/50 [==============================] - 0s 2ms/step - loss: 0.4663 - accuracy: 0.7680\n",
            "Epoch 112/256\n",
            "50/50 [==============================] - 0s 2ms/step - loss: 0.4658 - accuracy: 0.7736\n",
            "Epoch 113/256\n",
            "50/50 [==============================] - 0s 2ms/step - loss: 0.4657 - accuracy: 0.7705\n",
            "Epoch 114/256\n",
            "50/50 [==============================] - 0s 2ms/step - loss: 0.4656 - accuracy: 0.7705\n",
            "Epoch 115/256\n",
            "50/50 [==============================] - 0s 3ms/step - loss: 0.4651 - accuracy: 0.7717\n",
            "Epoch 116/256\n",
            "50/50 [==============================] - 0s 3ms/step - loss: 0.4652 - accuracy: 0.7711\n",
            "Epoch 117/256\n",
            "50/50 [==============================] - 0s 2ms/step - loss: 0.4646 - accuracy: 0.7717\n",
            "Epoch 118/256\n",
            "50/50 [==============================] - 0s 3ms/step - loss: 0.4643 - accuracy: 0.7711\n",
            "Epoch 119/256\n",
            "50/50 [==============================] - 0s 3ms/step - loss: 0.4639 - accuracy: 0.7711\n",
            "Epoch 120/256\n",
            "50/50 [==============================] - 0s 2ms/step - loss: 0.4637 - accuracy: 0.7711\n",
            "Epoch 121/256\n",
            "50/50 [==============================] - 0s 2ms/step - loss: 0.4636 - accuracy: 0.7724\n",
            "Epoch 122/256\n",
            "50/50 [==============================] - 0s 2ms/step - loss: 0.4633 - accuracy: 0.7699\n",
            "Epoch 123/256\n",
            "50/50 [==============================] - 0s 3ms/step - loss: 0.4632 - accuracy: 0.7730\n",
            "Epoch 124/256\n",
            "50/50 [==============================] - 0s 2ms/step - loss: 0.4630 - accuracy: 0.7730\n",
            "Epoch 125/256\n",
            "50/50 [==============================] - 0s 3ms/step - loss: 0.4630 - accuracy: 0.7680\n",
            "Epoch 126/256\n",
            "50/50 [==============================] - 0s 3ms/step - loss: 0.4629 - accuracy: 0.7724\n",
            "Epoch 127/256\n",
            "50/50 [==============================] - 0s 2ms/step - loss: 0.4624 - accuracy: 0.7711\n",
            "Epoch 128/256\n",
            "50/50 [==============================] - 0s 3ms/step - loss: 0.4625 - accuracy: 0.7711\n",
            "Epoch 129/256\n",
            "50/50 [==============================] - 0s 4ms/step - loss: 0.4620 - accuracy: 0.7699\n",
            "Epoch 130/256\n",
            "50/50 [==============================] - 0s 4ms/step - loss: 0.4620 - accuracy: 0.7724\n",
            "Epoch 131/256\n",
            "50/50 [==============================] - 0s 3ms/step - loss: 0.4617 - accuracy: 0.7705\n",
            "Epoch 132/256\n",
            "50/50 [==============================] - 0s 3ms/step - loss: 0.4618 - accuracy: 0.7730\n",
            "Epoch 133/256\n",
            "50/50 [==============================] - 0s 3ms/step - loss: 0.4612 - accuracy: 0.7730\n",
            "Epoch 134/256\n",
            "50/50 [==============================] - 0s 4ms/step - loss: 0.4614 - accuracy: 0.7730\n",
            "Epoch 135/256\n",
            "50/50 [==============================] - 0s 4ms/step - loss: 0.4611 - accuracy: 0.7736\n",
            "Epoch 136/256\n",
            "50/50 [==============================] - 0s 5ms/step - loss: 0.4611 - accuracy: 0.7736\n",
            "Epoch 137/256\n",
            "50/50 [==============================] - 0s 4ms/step - loss: 0.4608 - accuracy: 0.7717\n",
            "Epoch 138/256\n",
            "50/50 [==============================] - 0s 4ms/step - loss: 0.4608 - accuracy: 0.7755\n",
            "Epoch 139/256\n",
            "50/50 [==============================] - 0s 4ms/step - loss: 0.4603 - accuracy: 0.7755\n",
            "Epoch 140/256\n",
            "50/50 [==============================] - 0s 4ms/step - loss: 0.4603 - accuracy: 0.7736\n",
            "Epoch 141/256\n",
            "50/50 [==============================] - 0s 3ms/step - loss: 0.4601 - accuracy: 0.7749\n",
            "Epoch 142/256\n",
            "50/50 [==============================] - 0s 4ms/step - loss: 0.4598 - accuracy: 0.7730\n",
            "Epoch 143/256\n",
            "50/50 [==============================] - 0s 4ms/step - loss: 0.4596 - accuracy: 0.7742\n",
            "Epoch 144/256\n",
            "50/50 [==============================] - 0s 3ms/step - loss: 0.4597 - accuracy: 0.7711\n",
            "Epoch 145/256\n",
            "50/50 [==============================] - 0s 3ms/step - loss: 0.4593 - accuracy: 0.7767\n",
            "Epoch 146/256\n",
            "50/50 [==============================] - 0s 3ms/step - loss: 0.4596 - accuracy: 0.7730\n",
            "Epoch 147/256\n",
            "50/50 [==============================] - 0s 3ms/step - loss: 0.4591 - accuracy: 0.7742\n",
            "Epoch 148/256\n",
            "50/50 [==============================] - 0s 3ms/step - loss: 0.4588 - accuracy: 0.7755\n",
            "Epoch 149/256\n",
            "50/50 [==============================] - 0s 2ms/step - loss: 0.4586 - accuracy: 0.7724\n",
            "Epoch 150/256\n",
            "50/50 [==============================] - 0s 2ms/step - loss: 0.4586 - accuracy: 0.7749\n",
            "Epoch 151/256\n",
            "50/50 [==============================] - 0s 2ms/step - loss: 0.4585 - accuracy: 0.7730\n",
            "Epoch 152/256\n",
            "50/50 [==============================] - 0s 2ms/step - loss: 0.4584 - accuracy: 0.7749\n",
            "Epoch 153/256\n",
            "50/50 [==============================] - 0s 2ms/step - loss: 0.4584 - accuracy: 0.7736\n",
            "Epoch 154/256\n",
            "50/50 [==============================] - 0s 2ms/step - loss: 0.4583 - accuracy: 0.7736\n",
            "Epoch 155/256\n",
            "50/50 [==============================] - 0s 2ms/step - loss: 0.4581 - accuracy: 0.7749\n",
            "Epoch 156/256\n",
            "50/50 [==============================] - 0s 2ms/step - loss: 0.4581 - accuracy: 0.7774\n",
            "Epoch 157/256\n",
            "50/50 [==============================] - 0s 2ms/step - loss: 0.4580 - accuracy: 0.7774\n",
            "Epoch 158/256\n",
            "50/50 [==============================] - 0s 2ms/step - loss: 0.4578 - accuracy: 0.7786\n",
            "Epoch 159/256\n",
            "50/50 [==============================] - 0s 2ms/step - loss: 0.4578 - accuracy: 0.7742\n",
            "Epoch 160/256\n",
            "50/50 [==============================] - 0s 2ms/step - loss: 0.4576 - accuracy: 0.7749\n",
            "Epoch 161/256\n",
            "50/50 [==============================] - 0s 2ms/step - loss: 0.4573 - accuracy: 0.7786\n",
            "Epoch 162/256\n",
            "50/50 [==============================] - 0s 3ms/step - loss: 0.4574 - accuracy: 0.7749\n",
            "Epoch 163/256\n",
            "50/50 [==============================] - 0s 2ms/step - loss: 0.4575 - accuracy: 0.7761\n",
            "Epoch 164/256\n",
            "50/50 [==============================] - 0s 2ms/step - loss: 0.4574 - accuracy: 0.7786\n",
            "Epoch 165/256\n",
            "50/50 [==============================] - 0s 2ms/step - loss: 0.4571 - accuracy: 0.7786\n",
            "Epoch 166/256\n",
            "50/50 [==============================] - 0s 3ms/step - loss: 0.4575 - accuracy: 0.7774\n",
            "Epoch 167/256\n",
            "50/50 [==============================] - 0s 2ms/step - loss: 0.4569 - accuracy: 0.7755\n",
            "Epoch 168/256\n",
            "50/50 [==============================] - 0s 2ms/step - loss: 0.4571 - accuracy: 0.7767\n",
            "Epoch 169/256\n",
            "50/50 [==============================] - 0s 2ms/step - loss: 0.4572 - accuracy: 0.7774\n",
            "Epoch 170/256\n",
            "50/50 [==============================] - 0s 3ms/step - loss: 0.4570 - accuracy: 0.7786\n",
            "Epoch 171/256\n",
            "50/50 [==============================] - 0s 3ms/step - loss: 0.4568 - accuracy: 0.7780\n",
            "Epoch 172/256\n",
            "50/50 [==============================] - 0s 2ms/step - loss: 0.4570 - accuracy: 0.7786\n",
            "Epoch 173/256\n",
            "50/50 [==============================] - 0s 3ms/step - loss: 0.4567 - accuracy: 0.7792\n",
            "Epoch 174/256\n",
            "50/50 [==============================] - 0s 2ms/step - loss: 0.4567 - accuracy: 0.7792\n",
            "Epoch 175/256\n",
            "50/50 [==============================] - 0s 2ms/step - loss: 0.4566 - accuracy: 0.7805\n",
            "Epoch 176/256\n",
            "50/50 [==============================] - 0s 2ms/step - loss: 0.4564 - accuracy: 0.7786\n",
            "Epoch 177/256\n",
            "50/50 [==============================] - 0s 2ms/step - loss: 0.4562 - accuracy: 0.7786\n",
            "Epoch 178/256\n",
            "50/50 [==============================] - 0s 3ms/step - loss: 0.4563 - accuracy: 0.7792\n",
            "Epoch 179/256\n",
            "50/50 [==============================] - 0s 3ms/step - loss: 0.4561 - accuracy: 0.7799\n",
            "Epoch 180/256\n",
            "50/50 [==============================] - 0s 3ms/step - loss: 0.4559 - accuracy: 0.7799\n",
            "Epoch 181/256\n",
            "50/50 [==============================] - 0s 3ms/step - loss: 0.4560 - accuracy: 0.7817\n",
            "Epoch 182/256\n",
            "50/50 [==============================] - 0s 3ms/step - loss: 0.4559 - accuracy: 0.7805\n",
            "Epoch 183/256\n",
            "50/50 [==============================] - 0s 3ms/step - loss: 0.4557 - accuracy: 0.7786\n",
            "Epoch 184/256\n",
            "50/50 [==============================] - 0s 3ms/step - loss: 0.4555 - accuracy: 0.7805\n",
            "Epoch 185/256\n",
            "50/50 [==============================] - 0s 3ms/step - loss: 0.4558 - accuracy: 0.7786\n",
            "Epoch 186/256\n",
            "50/50 [==============================] - 0s 2ms/step - loss: 0.4553 - accuracy: 0.7780\n",
            "Epoch 187/256\n",
            "50/50 [==============================] - 0s 2ms/step - loss: 0.4554 - accuracy: 0.7792\n",
            "Epoch 188/256\n",
            "50/50 [==============================] - 0s 2ms/step - loss: 0.4553 - accuracy: 0.7780\n",
            "Epoch 189/256\n",
            "50/50 [==============================] - 0s 3ms/step - loss: 0.4554 - accuracy: 0.7792\n",
            "Epoch 190/256\n",
            "50/50 [==============================] - 0s 2ms/step - loss: 0.4550 - accuracy: 0.7817\n",
            "Epoch 191/256\n",
            "50/50 [==============================] - 0s 2ms/step - loss: 0.4551 - accuracy: 0.7786\n",
            "Epoch 192/256\n",
            "50/50 [==============================] - 0s 3ms/step - loss: 0.4549 - accuracy: 0.7792\n",
            "Epoch 193/256\n",
            "50/50 [==============================] - 0s 3ms/step - loss: 0.4549 - accuracy: 0.7805\n",
            "Epoch 194/256\n",
            "50/50 [==============================] - 0s 2ms/step - loss: 0.4548 - accuracy: 0.7830\n",
            "Epoch 195/256\n",
            "50/50 [==============================] - 0s 2ms/step - loss: 0.4546 - accuracy: 0.7805\n",
            "Epoch 196/256\n",
            "50/50 [==============================] - 0s 2ms/step - loss: 0.4544 - accuracy: 0.7805\n",
            "Epoch 197/256\n",
            "50/50 [==============================] - 0s 2ms/step - loss: 0.4541 - accuracy: 0.7761\n",
            "Epoch 198/256\n",
            "50/50 [==============================] - 0s 2ms/step - loss: 0.4542 - accuracy: 0.7799\n",
            "Epoch 199/256\n",
            "50/50 [==============================] - 0s 2ms/step - loss: 0.4538 - accuracy: 0.7786\n",
            "Epoch 200/256\n",
            "50/50 [==============================] - 0s 3ms/step - loss: 0.4540 - accuracy: 0.7786\n",
            "Epoch 201/256\n",
            "50/50 [==============================] - 0s 2ms/step - loss: 0.4540 - accuracy: 0.7799\n",
            "Epoch 202/256\n",
            "50/50 [==============================] - 0s 3ms/step - loss: 0.4539 - accuracy: 0.7805\n",
            "Epoch 203/256\n",
            "50/50 [==============================] - 0s 3ms/step - loss: 0.4536 - accuracy: 0.7811\n",
            "Epoch 204/256\n",
            "50/50 [==============================] - 0s 3ms/step - loss: 0.4537 - accuracy: 0.7805\n",
            "Epoch 205/256\n",
            "50/50 [==============================] - 0s 3ms/step - loss: 0.4536 - accuracy: 0.7811\n",
            "Epoch 206/256\n",
            "50/50 [==============================] - 0s 2ms/step - loss: 0.4533 - accuracy: 0.7811\n",
            "Epoch 207/256\n",
            "50/50 [==============================] - 0s 2ms/step - loss: 0.4532 - accuracy: 0.7805\n",
            "Epoch 208/256\n",
            "50/50 [==============================] - 0s 3ms/step - loss: 0.4529 - accuracy: 0.7824\n",
            "Epoch 209/256\n",
            "50/50 [==============================] - 0s 2ms/step - loss: 0.4529 - accuracy: 0.7799\n",
            "Epoch 210/256\n",
            "50/50 [==============================] - 0s 3ms/step - loss: 0.4528 - accuracy: 0.7799\n",
            "Epoch 211/256\n",
            "50/50 [==============================] - 0s 2ms/step - loss: 0.4526 - accuracy: 0.7805\n",
            "Epoch 212/256\n",
            "50/50 [==============================] - 0s 3ms/step - loss: 0.4524 - accuracy: 0.7799\n",
            "Epoch 213/256\n",
            "50/50 [==============================] - 0s 2ms/step - loss: 0.4523 - accuracy: 0.7817\n",
            "Epoch 214/256\n",
            "50/50 [==============================] - 0s 2ms/step - loss: 0.4522 - accuracy: 0.7817\n",
            "Epoch 215/256\n",
            "50/50 [==============================] - 0s 2ms/step - loss: 0.4522 - accuracy: 0.7811\n",
            "Epoch 216/256\n",
            "50/50 [==============================] - 0s 3ms/step - loss: 0.4517 - accuracy: 0.7842\n",
            "Epoch 217/256\n",
            "50/50 [==============================] - 0s 2ms/step - loss: 0.4522 - accuracy: 0.7830\n",
            "Epoch 218/256\n",
            "50/50 [==============================] - 0s 3ms/step - loss: 0.4516 - accuracy: 0.7824\n",
            "Epoch 219/256\n",
            "50/50 [==============================] - 0s 4ms/step - loss: 0.4515 - accuracy: 0.7817\n",
            "Epoch 220/256\n",
            "50/50 [==============================] - 0s 3ms/step - loss: 0.4516 - accuracy: 0.7849\n",
            "Epoch 221/256\n",
            "50/50 [==============================] - 0s 3ms/step - loss: 0.4509 - accuracy: 0.7874\n",
            "Epoch 222/256\n",
            "50/50 [==============================] - 0s 4ms/step - loss: 0.4511 - accuracy: 0.7811\n",
            "Epoch 223/256\n",
            "50/50 [==============================] - 0s 4ms/step - loss: 0.4510 - accuracy: 0.7842\n",
            "Epoch 224/256\n",
            "50/50 [==============================] - 0s 4ms/step - loss: 0.4506 - accuracy: 0.7830\n",
            "Epoch 225/256\n",
            "50/50 [==============================] - 0s 4ms/step - loss: 0.4508 - accuracy: 0.7830\n",
            "Epoch 226/256\n",
            "50/50 [==============================] - 0s 4ms/step - loss: 0.4501 - accuracy: 0.7830\n",
            "Epoch 227/256\n",
            "50/50 [==============================] - 0s 4ms/step - loss: 0.4502 - accuracy: 0.7855\n",
            "Epoch 228/256\n",
            "50/50 [==============================] - 0s 3ms/step - loss: 0.4499 - accuracy: 0.7849\n",
            "Epoch 229/256\n",
            "50/50 [==============================] - 0s 4ms/step - loss: 0.4499 - accuracy: 0.7842\n",
            "Epoch 230/256\n",
            "50/50 [==============================] - 0s 4ms/step - loss: 0.4499 - accuracy: 0.7842\n",
            "Epoch 231/256\n",
            "50/50 [==============================] - 0s 4ms/step - loss: 0.4494 - accuracy: 0.7855\n",
            "Epoch 232/256\n",
            "50/50 [==============================] - 0s 3ms/step - loss: 0.4492 - accuracy: 0.7842\n",
            "Epoch 233/256\n",
            "50/50 [==============================] - 0s 5ms/step - loss: 0.4494 - accuracy: 0.7855\n",
            "Epoch 234/256\n",
            "50/50 [==============================] - 0s 4ms/step - loss: 0.4491 - accuracy: 0.7874\n",
            "Epoch 235/256\n",
            "50/50 [==============================] - 0s 4ms/step - loss: 0.4488 - accuracy: 0.7880\n",
            "Epoch 236/256\n",
            "50/50 [==============================] - 0s 3ms/step - loss: 0.4490 - accuracy: 0.7880\n",
            "Epoch 237/256\n",
            "50/50 [==============================] - 0s 4ms/step - loss: 0.4486 - accuracy: 0.7842\n",
            "Epoch 238/256\n",
            "50/50 [==============================] - 0s 3ms/step - loss: 0.4482 - accuracy: 0.7849\n",
            "Epoch 239/256\n",
            "50/50 [==============================] - 0s 3ms/step - loss: 0.4487 - accuracy: 0.7867\n",
            "Epoch 240/256\n",
            "50/50 [==============================] - 0s 3ms/step - loss: 0.4483 - accuracy: 0.7855\n",
            "Epoch 241/256\n",
            "50/50 [==============================] - 0s 2ms/step - loss: 0.4482 - accuracy: 0.7899\n",
            "Epoch 242/256\n",
            "50/50 [==============================] - 0s 2ms/step - loss: 0.4481 - accuracy: 0.7899\n",
            "Epoch 243/256\n",
            "50/50 [==============================] - 0s 3ms/step - loss: 0.4480 - accuracy: 0.7886\n",
            "Epoch 244/256\n",
            "50/50 [==============================] - 0s 2ms/step - loss: 0.4478 - accuracy: 0.7874\n",
            "Epoch 245/256\n",
            "50/50 [==============================] - 0s 2ms/step - loss: 0.4477 - accuracy: 0.7880\n",
            "Epoch 246/256\n",
            "50/50 [==============================] - 0s 3ms/step - loss: 0.4474 - accuracy: 0.7886\n",
            "Epoch 247/256\n",
            "50/50 [==============================] - 0s 3ms/step - loss: 0.4476 - accuracy: 0.7905\n",
            "Epoch 248/256\n",
            "50/50 [==============================] - 0s 3ms/step - loss: 0.4475 - accuracy: 0.7867\n",
            "Epoch 249/256\n",
            "50/50 [==============================] - 0s 3ms/step - loss: 0.4473 - accuracy: 0.7880\n",
            "Epoch 250/256\n",
            "50/50 [==============================] - 0s 2ms/step - loss: 0.4473 - accuracy: 0.7899\n",
            "Epoch 251/256\n",
            "50/50 [==============================] - 0s 3ms/step - loss: 0.4470 - accuracy: 0.7867\n",
            "Epoch 252/256\n",
            "50/50 [==============================] - 0s 2ms/step - loss: 0.4468 - accuracy: 0.7899\n",
            "Epoch 253/256\n",
            "50/50 [==============================] - 0s 2ms/step - loss: 0.4467 - accuracy: 0.7867\n",
            "Epoch 254/256\n",
            "50/50 [==============================] - 0s 3ms/step - loss: 0.4467 - accuracy: 0.7886\n",
            "Epoch 255/256\n",
            "50/50 [==============================] - 0s 2ms/step - loss: 0.4464 - accuracy: 0.7886\n",
            "Epoch 256/256\n",
            "50/50 [==============================] - 0s 2ms/step - loss: 0.4464 - accuracy: 0.7880\n"
          ]
        },
        {
          "output_type": "execute_result",
          "data": {
            "text/plain": [
              "<keras.callbacks.History at 0x7f568d9d5ee0>"
            ]
          },
          "metadata": {},
          "execution_count": 307
        }
      ]
    },
    {
      "cell_type": "markdown",
      "source": [
        "#Loss caindo é um bom sinal. Significa que o treinamento está funcionando"
      ],
      "metadata": {
        "id": "szTHBuz14jK3"
      }
    },
    {
      "cell_type": "code",
      "source": [
        "prediction = model.predict(X)"
      ],
      "metadata": {
        "colab": {
          "base_uri": "https://localhost:8080/"
        },
        "id": "YTyVLPUr4fWY",
        "outputId": "44b644a7-ce62-4e0a-d42c-57f336036e23"
      },
      "execution_count": 308,
      "outputs": [
        {
          "output_type": "stream",
          "name": "stdout",
          "text": [
            "50/50 [==============================] - 0s 1ms/step\n"
          ]
        }
      ]
    },
    {
      "cell_type": "markdown",
      "source": [
        "#Probabilidade para os 5 primeiros data points\n"
      ],
      "metadata": {
        "id": "vOnaOeYl_Tla"
      }
    },
    {
      "cell_type": "code",
      "source": [
        "prediction[:5]"
      ],
      "metadata": {
        "colab": {
          "base_uri": "https://localhost:8080/"
        },
        "id": "rZkGx2me4zhx",
        "outputId": "dfc201bd-ea52-422e-a552-e529b1131856"
      },
      "execution_count": 309,
      "outputs": [
        {
          "output_type": "execute_result",
          "data": {
            "text/plain": [
              "array([[0.14],\n",
              "       [0.32],\n",
              "       [0.28],\n",
              "       [0.33],\n",
              "       [0.14]], dtype=float32)"
            ]
          },
          "metadata": {},
          "execution_count": 309
        }
      ]
    },
    {
      "cell_type": "code",
      "source": [
        "Y[:5]"
      ],
      "metadata": {
        "colab": {
          "base_uri": "https://localhost:8080/"
        },
        "id": "zdQwVZgU5Bdf",
        "outputId": "a72086f0-fbb1-4d79-db69-3075b4d6ed74"
      },
      "execution_count": 310,
      "outputs": [
        {
          "output_type": "execute_result",
          "data": {
            "text/plain": [
              "array([0.00, 0.00, 0.00, 1.00, 0.00])"
            ]
          },
          "metadata": {},
          "execution_count": 310
        }
      ]
    },
    {
      "cell_type": "markdown",
      "source": [
        "Acurácia"
      ],
      "metadata": {
        "id": "JivkcfOu_X89"
      }
    },
    {
      "cell_type": "code",
      "source": [
        "my_accuracy = accuracy_score(Y, prediction.round())\n",
        "my_accuracy"
      ],
      "metadata": {
        "colab": {
          "base_uri": "https://localhost:8080/"
        },
        "id": "IPkGCE3z5Kmw",
        "outputId": "b8f508b4-1ebc-4ba7-b613-f56a9c553ac7"
      },
      "execution_count": 311,
      "outputs": [
        {
          "output_type": "execute_result",
          "data": {
            "text/plain": [
              "0.7898686679174484"
            ]
          },
          "metadata": {},
          "execution_count": 311
        }
      ]
    },
    {
      "cell_type": "markdown",
      "source": [
        "Baseline"
      ],
      "metadata": {
        "id": "FR4NSt5D_aSd"
      }
    },
    {
      "cell_type": "code",
      "source": [
        "len(Y)"
      ],
      "metadata": {
        "colab": {
          "base_uri": "https://localhost:8080/"
        },
        "id": "qdzIZolB6peq",
        "outputId": "7a93abeb-8cf9-40b1-e4d4-e5cb374b58e5"
      },
      "execution_count": 312,
      "outputs": [
        {
          "output_type": "execute_result",
          "data": {
            "text/plain": [
              "1599"
            ]
          },
          "metadata": {},
          "execution_count": 312
        }
      ]
    },
    {
      "cell_type": "markdown",
      "source": [
        "Quantos dos valores são positivos\n"
      ],
      "metadata": {
        "id": "BmujFnKH_dMT"
      }
    },
    {
      "cell_type": "code",
      "source": [
        "Y.sum()"
      ],
      "metadata": {
        "colab": {
          "base_uri": "https://localhost:8080/"
        },
        "id": "NFCQ_HJj6vzX",
        "outputId": "d9393290-d0a9-4fde-dc99-da4b81c7a024"
      },
      "execution_count": 313,
      "outputs": [
        {
          "output_type": "execute_result",
          "data": {
            "text/plain": [
              "855.0"
            ]
          },
          "metadata": {},
          "execution_count": 313
        }
      ]
    },
    {
      "cell_type": "markdown",
      "source": [
        "55% são positivos, ou seja, bons vinhos\n",
        "\n"
      ],
      "metadata": {
        "id": "_MDp-h5q_fz1"
      }
    },
    {
      "cell_type": "code",
      "source": [
        "855 / 1599"
      ],
      "metadata": {
        "colab": {
          "base_uri": "https://localhost:8080/"
        },
        "id": "BoYRIVlr6zW3",
        "outputId": "f739ce5a-22e8-453b-8769-6ec3deb32eab"
      },
      "execution_count": 314,
      "outputs": [
        {
          "output_type": "execute_result",
          "data": {
            "text/plain": [
              "0.5347091932457786"
            ]
          },
          "metadata": {},
          "execution_count": 314
        }
      ]
    },
    {
      "cell_type": "markdown",
      "source": [
        "Precisão"
      ],
      "metadata": {
        "id": "mJihlTJ9_xSJ"
      }
    },
    {
      "cell_type": "code",
      "source": [
        "\n",
        "precision = precision_score(Y, prediction.round())\n",
        "precision"
      ],
      "metadata": {
        "colab": {
          "base_uri": "https://localhost:8080/"
        },
        "id": "uJ-QDghl6NFG",
        "outputId": "bf60c998-7c37-47f0-d01a-f54ea8743c50"
      },
      "execution_count": 315,
      "outputs": [
        {
          "output_type": "execute_result",
          "data": {
            "text/plain": [
              "0.8153098420413123"
            ]
          },
          "metadata": {},
          "execution_count": 315
        }
      ]
    },
    {
      "cell_type": "markdown",
      "source": [
        "Kappa"
      ],
      "metadata": {
        "id": "1W8JoFa5_zZW"
      }
    },
    {
      "cell_type": "code",
      "source": [
        "\n",
        "kappa = cohen_kappa_score(Y, prediction.round())\n",
        "print('Cohens kappa: %f' % kappa)"
      ],
      "metadata": {
        "colab": {
          "base_uri": "https://localhost:8080/"
        },
        "id": "pHL9qBBt7Dk7",
        "outputId": "0bd967db-9259-4aff-be98-dbb107fd94e4"
      },
      "execution_count": 316,
      "outputs": [
        {
          "output_type": "stream",
          "name": "stdout",
          "text": [
            "Cohens kappa: 0.578878\n"
          ]
        }
      ]
    },
    {
      "cell_type": "markdown",
      "source": [
        "F1"
      ],
      "metadata": {
        "id": "FRMxI0w1_1y6"
      }
    },
    {
      "cell_type": "code",
      "source": [
        "\n",
        "f1 = f1_score(Y, prediction.round())\n",
        "print('F1 score: %f' % f1)"
      ],
      "metadata": {
        "colab": {
          "base_uri": "https://localhost:8080/"
        },
        "id": "Xg2uDTfo72aV",
        "outputId": "e36321ef-7c11-4c03-914e-7b1cf9ac215d"
      },
      "execution_count": 317,
      "outputs": [
        {
          "output_type": "stream",
          "name": "stdout",
          "text": [
            "F1 score: 0.799762\n"
          ]
        }
      ]
    },
    {
      "cell_type": "markdown",
      "source": [
        "Recall"
      ],
      "metadata": {
        "id": "VoJFTyI4_4Y_"
      }
    },
    {
      "cell_type": "code",
      "source": [
        "recall = recall_score(Y, prediction.round())\n",
        "print('Recall: %f' % recall)"
      ],
      "metadata": {
        "colab": {
          "base_uri": "https://localhost:8080/"
        },
        "id": "cSszhfK376oS",
        "outputId": "7d74913f-30b8-4709-e8b6-862becea1a2b"
      },
      "execution_count": 318,
      "outputs": [
        {
          "output_type": "stream",
          "name": "stdout",
          "text": [
            "Recall: 0.784795\n"
          ]
        }
      ]
    },
    {
      "cell_type": "markdown",
      "source": [
        "ROC AUC"
      ],
      "metadata": {
        "id": "ETsS6iWP_5vD"
      }
    },
    {
      "cell_type": "code",
      "source": [
        "auc = roc_auc_score(Y, prediction.round())\n",
        "print('ROC AUC: %f' % auc)"
      ],
      "metadata": {
        "colab": {
          "base_uri": "https://localhost:8080/"
        },
        "id": "s2Y0WPZq8AIU",
        "outputId": "9a2ee08d-e54f-41e0-e7c1-23b2d3e5f480"
      },
      "execution_count": 319,
      "outputs": [
        {
          "output_type": "stream",
          "name": "stdout",
          "text": [
            "ROC AUC: 0.790247\n"
          ]
        }
      ]
    }
  ]
}